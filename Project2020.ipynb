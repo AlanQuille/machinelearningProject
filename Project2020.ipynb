{
 "cells": [
  {
   "cell_type": "markdown",
   "metadata": {},
   "source": [
    "# Machine Learning and Statistics Project 2020"
   ]
  },
  {
   "cell_type": "markdown",
   "metadata": {},
   "source": [
    "## Table of contents\n",
    "1. [Introduction](#introduction)\n",
    "\n",
    "2. [Decision Trees](#dectree)\n",
    "\n",
    "    2.1 [Preprocessing](#preproc)\n",
    "    \n",
    "    2.2 [Algorithm](#alg)\n",
    "    \n",
    "    2.3 [Predictions](#pred)\n",
    "\n",
    "3. [Neural Networks](#neural)\n",
    "    \n",
    "    2.1 [Algorithm](#alg2)\n",
    "    \n",
    "    2.2 [Predictions](#pred2)\n",
    "\n",
    "4. [Random Forest](#randfor)\n",
    "    \n",
    "    2.1 [Algorithm](#alg3)\n",
    "    \n",
    "    2.2 [Predictions](#pred3)\n",
    "\n",
    "4. [Discussion](#disc)\n",
    "    \n",
    "5. [References](#ref)"
   ]
  },
  {
   "cell_type": "markdown",
   "metadata": {},
   "source": [
    "## Introduction <a name=\"introduction\"></a>\n",
    "The goal of this project is to make 3 predictive models which predict wind turbine power from wind turbine speed. The dataset features and labels (i.e. input and output values) [1](#1) are both continuous so regression models are employed. The three models are Decision Trees, Neural Networks and Random Forest respectively (all are supervised learning algorithms)."
   ]
  },
  {
   "cell_type": "markdown",
   "metadata": {},
   "source": [
    "## Decision Trees <a name=\"dectree\"></a>\n",
    "This project will use the the DecisionTreeRegressor function from the sklearn package to perform regression using Decision Trees. \n",
    "\n",
    "Decision Trees work by breaking down the dataset into smaller and smaller segments while a \"decision tree\" (i.e. a node structure with tests at each node to divide the data) is developed node by node. [2](#2)\n",
    "\n",
    "This algorithm works in the same way for both classification and regression.\n",
    "\n",
    "\n",
    "### Preprocessing <a name=\"preproc\"></a>\n",
    "First the data is imported and preprocessed. The preprocessing consists in splitting up the data into feature data (x values) and labels (y values) and rehsaping the X values as the LinearRegression() from linear_model function does not take a 1D array for the X values. First, a scatter plot of the data is produced to get a sense of the relationship between the variables and possible outliers:"
   ]
  },
  {
   "cell_type": "code",
   "execution_count": 1,
   "metadata": {
    "scrolled": true
   },
   "outputs": [
    {
     "data": {
      "image/png": "[encoded data removed]",
      "text/plain": [
       "<Figure size 432x288 with 1 Axes>"
      ]
     },
     "metadata": {},
     "output_type": "display_data"
    }
   ],
   "source": [
    "# import data \n",
    "import pandas as pd\n",
    "import matplotlib.pyplot as plt\n",
    "# seaborn to make plot look nice\n",
    "import seaborn as sns\n",
    "sns.set()\n",
    "\n",
    "# read in csv file power production into\n",
    "# dataframe\n",
    "lin_data = pd.read_csv('powerproduction.csv')\n",
    "\n",
    "# X and y values for regression\n",
    "X = lin_data.iloc[:, 0].values\n",
    "y = lin_data.iloc[:, 1].values\n",
    "\n",
    "def scatter_plot(X, y):\n",
    "    # scatter plot of data set\n",
    "    plt.scatter(X, y, color=\"blue\");\n",
    "\n",
    "    # Title of plot\n",
    "    plt.title(\"Plot of speed and power\", fontsize=25)\n",
    "    \n",
    "    # the x label of plot\n",
    "    plt.xlabel(\"Speed, ms$^{-1}$\", fontsize=20)\n",
    "    \n",
    "    # the y label of plot\n",
    "    plt.ylabel(\"Power, Watts\", fontsize=20)\n",
    "    \n",
    "    # change size of ticks of x and y axes\n",
    "    ax = plt.gca()\n",
    "    ax.tick_params(axis = 'both',which = 'major', labelsize = 14)\n",
    "    \n",
    "scatter_plot(X, y)"
   ]
  },
  {
   "cell_type": "markdown",
   "metadata": {},
   "source": [
    "The plot resembles the sigmoid function [3](#3). There are outliers clearly present in the scatter plot. The appropriate method to deal with outliers varies from dataset to dataset. In this case, it is clear that several of the outliers (near power=0 Watts, after speed=10ms<sup>-1</sup>) are unrelated to the apparent shape of the data and might be mistakes. As such, it is appropriate to remove them [4](#4)."
   ]
  },
  {
   "cell_type": "code",
   "execution_count": 2,
   "metadata": {
    "scrolled": true
   },
   "outputs": [
    {
     "data": {
      "text/html": [
       "<div>\n",
       "<style scoped>\n",
       "    .dataframe tbody tr th:only-of-type {\n",
       "        vertical-align: middle;\n",
       "    }\n",
       "\n",
       "    .dataframe tbody tr th {\n",
       "        vertical-align: top;\n",
       "    }\n",
       "\n",
       "    .dataframe thead th {\n",
       "        text-align: right;\n",
       "    }\n",
       "</style>\n",
       "<table border=\"1\" class=\"dataframe\">\n",
       "  <thead>\n",
       "    <tr style=\"text-align: right;\">\n",
       "      <th></th>\n",
       "      <th>speed</th>\n",
       "      <th>power</th>\n",
       "    </tr>\n",
       "  </thead>\n",
       "  <tbody>\n",
       "    <tr>\n",
       "      <th>208</th>\n",
       "      <td>10.511</td>\n",
       "      <td>0.0</td>\n",
       "    </tr>\n",
       "    <tr>\n",
       "      <th>340</th>\n",
       "      <td>17.167</td>\n",
       "      <td>0.0</td>\n",
       "    </tr>\n",
       "    <tr>\n",
       "      <th>404</th>\n",
       "      <td>20.095</td>\n",
       "      <td>0.0</td>\n",
       "    </tr>\n",
       "    <tr>\n",
       "      <th>456</th>\n",
       "      <td>22.998</td>\n",
       "      <td>0.0</td>\n",
       "    </tr>\n",
       "    <tr>\n",
       "      <th>490</th>\n",
       "      <td>24.499</td>\n",
       "      <td>0.0</td>\n",
       "    </tr>\n",
       "    <tr>\n",
       "      <th>491</th>\n",
       "      <td>24.525</td>\n",
       "      <td>0.0</td>\n",
       "    </tr>\n",
       "    <tr>\n",
       "      <th>492</th>\n",
       "      <td>24.575</td>\n",
       "      <td>0.0</td>\n",
       "    </tr>\n",
       "    <tr>\n",
       "      <th>493</th>\n",
       "      <td>24.650</td>\n",
       "      <td>0.0</td>\n",
       "    </tr>\n",
       "    <tr>\n",
       "      <th>494</th>\n",
       "      <td>24.750</td>\n",
       "      <td>0.0</td>\n",
       "    </tr>\n",
       "    <tr>\n",
       "      <th>495</th>\n",
       "      <td>24.775</td>\n",
       "      <td>0.0</td>\n",
       "    </tr>\n",
       "    <tr>\n",
       "      <th>496</th>\n",
       "      <td>24.850</td>\n",
       "      <td>0.0</td>\n",
       "    </tr>\n",
       "    <tr>\n",
       "      <th>497</th>\n",
       "      <td>24.875</td>\n",
       "      <td>0.0</td>\n",
       "    </tr>\n",
       "    <tr>\n",
       "      <th>498</th>\n",
       "      <td>24.950</td>\n",
       "      <td>0.0</td>\n",
       "    </tr>\n",
       "    <tr>\n",
       "      <th>499</th>\n",
       "      <td>25.000</td>\n",
       "      <td>0.0</td>\n",
       "    </tr>\n",
       "  </tbody>\n",
       "</table>\n",
       "</div>"
      ],
      "text/plain": [
       "      speed  power\n",
       "208  10.511    0.0\n",
       "340  17.167    0.0\n",
       "404  20.095    0.0\n",
       "456  22.998    0.0\n",
       "490  24.499    0.0\n",
       "491  24.525    0.0\n",
       "492  24.575    0.0\n",
       "493  24.650    0.0\n",
       "494  24.750    0.0\n",
       "495  24.775    0.0\n",
       "496  24.850    0.0\n",
       "497  24.875    0.0\n",
       "498  24.950    0.0\n",
       "499  25.000    0.0"
      ]
     },
     "execution_count": 2,
     "metadata": {},
     "output_type": "execute_result"
    }
   ],
   "source": [
    "# identifying rows where power = 0 and speed > 10\n",
    "lin_data.loc[(lin_data['power'] == 0 ) & (lin_data['speed'] > 10)]"
   ]
  },
  {
   "cell_type": "code",
   "execution_count": 3,
   "metadata": {},
   "outputs": [
    {
     "data": {
      "text/plain": [
       "0"
      ]
     },
     "execution_count": 3,
     "metadata": {},
     "output_type": "execute_result"
    }
   ],
   "source": [
    "# remove rows by row numbers\n",
    "lin_data = lin_data.drop([208, 340, 404, 456, 490, 491, 492, 493, 494, 495, 496, 497, 498, 499]);\n",
    "# check if rows have been removed\n",
    "lin_data.loc[(lin_data['power'] == 0 ) & (lin_data['speed'] > 10)].size"
   ]
  },
  {
   "cell_type": "markdown",
   "metadata": {},
   "source": [
    "The outliers have been successfully removed from the dataset. They can now be reshaped as outlined at the start of this section:"
   ]
  },
  {
   "cell_type": "code",
   "execution_count": 4,
   "metadata": {},
   "outputs": [],
   "source": [
    "# X and y values for regression\n",
    "X = lin_data.iloc[:, 0].values\n",
    "y = lin_data.iloc[:, 1].values\n",
    "\n",
    "# The X values are reshaped as \n",
    "# they only contain one feature\n",
    "X = X.reshape(-1, 1)"
   ]
  },
  {
   "cell_type": "markdown",
   "metadata": {},
   "source": [
    "### Algorithm <a name=\"alg\"></a>\n",
    "The train_test_split function is defined using the model_selection module from the sklearn package. This is used to randomly split the data into training and testing data.\n",
    "The DecisionTreeRegressor function is defined and used to fit a regressor to the X_train and y_train datasets. A test size of 20% of the data is chosen (so 80% of the data is training data)."
   ]
  },
  {
   "cell_type": "code",
   "execution_count": 30,
   "metadata": {},
   "outputs": [],
   "source": [
    "# decision tree regression\n",
    "from sklearn.model_selection import train_test_split\n",
    "from sklearn.tree import DecisionTreeRegressor\n",
    "\n",
    "# train_test_split on dataset, test size = 20%\n",
    "X_train, X_test, y_train, y_test = train_test_split(X, y, test_size=0.2, random_state=0)\n",
    "\n",
    "# create regressor and fit it to training data\n",
    "regressor = DecisionTreeRegressor();\n",
    "regressor.fit(X_train, y_train);"
   ]
  },
  {
   "cell_type": "markdown",
   "metadata": {},
   "source": [
    "### Predictions <a name=\"pred\"></a>\n",
    "The predicted values are calculated using the regressor and the X_test testing data. Then various metrics (mean absolute error, mean squared error and root mean squared error) are calculated to test the efficacy of the model. In addition, the coefficient of variation (the root mean squared error RMSE as a percentage of the mean of the observed values) is calculated."
   ]
  },
  {
   "cell_type": "code",
   "execution_count": 33,
   "metadata": {},
   "outputs": [
    {
     "name": "stdout",
     "output_type": "stream",
     "text": [
      "Mean Absolute Error: 4.479061224489796\n",
      "Mean Squared Error: 32.78614765306122\n",
      "Root Mean Squared Error: 5.725918935250587\n",
      "Mean of observed y values: 49.49011224489796\n",
      "Coefficient of variation: 11.569824103280114\n"
     ]
    }
   ],
   "source": [
    "# get metrics from sklearn\n",
    "from sklearn import metrics\n",
    "import numpy as np\n",
    "# predicted y values\n",
    "y_pred = regressor.predict(X_test)\n",
    "print('Mean Absolute Error:', metrics.mean_absolute_error(y_test, y_pred))\n",
    "print('Mean Squared Error:', metrics.mean_squared_error(y_test, y_pred))\n",
    "print('Root Mean Squared Error:', np.sqrt(metrics.mean_squared_error(y_test, y_pred)))\n",
    "print('Mean of observed y values:', np.mean(y_test))\n",
    "# coefficient of variation \n",
    "RMSE = np.sqrt(metrics.mean_squared_error(y_test, y_pred))\n",
    "print('Coefficient of variation:', (100*RMSE)/np.mean(y_test))"
   ]
  },
  {
   "cell_type": "markdown",
   "metadata": {},
   "source": [
    "The coefficient of variation is 11.57%. A good coefficient of variation is considered to be less than 25% [5](#5) so the decision tree regression model is very accurate at predicting power from speed values."
   ]
  },
  {
   "cell_type": "markdown",
   "metadata": {},
   "source": [
    "## Neural Networks <a name=\"neural\"></a>\n",
    "This project will use the Input, Dense and Model classes from the tensorflow.keras package to perform regression using Artificial Neural Networks.\n",
    "\n",
    "Neural networks operate in a similar manner to neurons in the brain [6](#6). Nodes in the neural network are connected together and they each have an activation function which depends on the inputs (which are the outputs of the other neurons, obtained via the connections). \n",
    "\n",
    "Activation functions differ but generally they are approximately 1 when a certain threshold value has been reached and approximately 0 if that value has not been reached. In addition, the connections between the neurons have weights which amplify or diminish the outputs (in an artificial neural network these are  set to randomly chosen small numbers) [7](#7)\n",
    "\n",
    "In a typical artificial neural network, there is an input layer of neurons (which have inputs not connected to any other neuron), an output layer (which have outputs not connected to any other neuron) and a hidden layer (neurons which have inputs and outputs connected to other neurons). A deep neural network has multiple hidden layers. [8](#8)\n",
    "\n",
    "Neural networks can be used to learn functions and patterns to make predictions. Tensorflow makes predictions using neural networks."
   ]
  },
  {
   "cell_type": "markdown",
   "metadata": {},
   "source": [
    "### Algorithm <a name=\"alg2\"></a>\n",
    "The data preprocessed for the decision tree classifier (lin_data) is used here for training and testing data.\n",
    "\n",
    "The train_test_split function is used again to split the data into training and testing data.\n",
    "\n",
    "The Input and Dense classes are imported from tensorflow.keras.layers. The input layer and the hidden layers of the neural network are created as objects of these classes. [9](#9)\n",
    "\n",
    "There are 500 nodes in the first hidden layer of the artificial neural network. This number was chosen\n",
    "because there are 500 features and 500 labels to train the model on. The inputs of this layer are connected to the outputs of the input layer (whose shape is the shape of the input data X).\n",
    "\n",
    "After this, two more hidden layers, the first with 100 neurons and the second with 50 neurons, are created. The outputs of the last hidden layer are connected to the output layer (which has only 1 neuron). \n",
    "\n",
    "The activation function for the hidden layers in this case is the rectified linear activation function or \"relu\". It is a piecewise linear function that returns the input if the input is positive. If the input is not positive it outputs 0. [10](#10)\n",
    "\n",
    "A regression model called model is created using the Model class. It uses the mean_squared error function for the loss function and the Adam algorithm for the optimiser. [11](#11)\n",
    "\n",
    "The model is compiled as follows:"
   ]
  },
  {
   "cell_type": "code",
   "execution_count": 8,
   "metadata": {},
   "outputs": [],
   "source": [
    "from sklearn.model_selection import train_test_split\n",
    "from tensorflow.keras.layers import Input, Dense\n",
    "from tensorflow.keras.models import Model\n",
    "\n",
    "# train and test data, test_size = 20%\n",
    "X_train, X_test, y_train, y_test = train_test_split(X, y, test_size=0.2, random_state=0)\n",
    "\n",
    "# input, hidden and output layers\n",
    "input_layer = Input(shape=(X.shape[1],))\n",
    "dense_layer_1 = Dense(500, activation='relu')(input_layer)\n",
    "dense_layer_2 = Dense(100, activation='relu')(dense_layer_1)\n",
    "dense_layer_3 = Dense(50, activation='relu')(dense_layer_2)\n",
    "#dense_layer_5 = Dense(10, activation='relu')(dense_layer_4)\n",
    "output = Dense(1)(dense_layer_3)\n",
    "\n",
    "# create model \n",
    "model = Model(inputs=input_layer, outputs=output)\n",
    "model.compile(loss=\"mean_squared_error\" , optimizer=\"adam\", metrics=[\"mean_squared_error\"])"
   ]
  },
  {
   "cell_type": "markdown",
   "metadata": {},
   "source": [
    "The model is trained on the training data using the fit function. This function takes the training and testing data, the batch_size attribute (which determines how the dataset is broken up, in this case into 2 batches), epochs (which determines how many passes over the dataset will be done), verbose (which determines whether the training is visible or not, in this case not) and validation_split (which splits the data for cross validation). Also, tic and toc variables are declared to show how long the training took."
   ]
  },
  {
   "cell_type": "code",
   "execution_count": 24,
   "metadata": {
    "scrolled": false
   },
   "outputs": [
    {
     "name": "stdout",
     "output_type": "stream",
     "text": [
      "\n",
      "The training was accomplished in 2.4365 seconds\n"
     ]
    }
   ],
   "source": [
    "# time for tic and toc variabls\n",
    "import time\n",
    "tic = time.perf_counter();\n",
    "# fit model to training data, 15 epochs\n",
    "history = model.fit(X_train, y_train, batch_size=2, epochs=15, verbose=0, validation_split=0.2);\n",
    "toc = time.perf_counter();\n",
    "print(\"\")\n",
    "print(f\"The training was accomplished in {toc - tic:0.4f} seconds\")"
   ]
  },
  {
   "cell_type": "markdown",
   "metadata": {},
   "source": [
    "### Predictions <a name=\"pred2\"></a>\n",
    "The predicted values are calculated using the regressor and the X_test testing data as before. Then various metrics (including the coefficient of variation) are calculated to test the efficacy of the model as before."
   ]
  },
  {
   "cell_type": "code",
   "execution_count": 25,
   "metadata": {
    "scrolled": true
   },
   "outputs": [
    {
     "name": "stdout",
     "output_type": "stream",
     "text": [
      "Mean Absolute Error: 3.5762047031558293\n",
      "Mean Squared Error: 19.408131340368644\n",
      "Root Mean Squared Error: 4.405466075271565\n",
      "Mean of observed y values: 49.49011224489796\n",
      "Coefficient of variation: 8.901709605085275\n"
     ]
    }
   ],
   "source": [
    "# predicted y values using model\n",
    "y_pred = model.predict(X_test)\n",
    "print('Mean Absolute Error:', metrics.mean_absolute_error(y_test, y_pred))\n",
    "print('Mean Squared Error:', metrics.mean_squared_error(y_test, y_pred))\n",
    "print('Root Mean Squared Error:', np.sqrt(metrics.mean_squared_error(y_test, y_pred)))\n",
    "print('Mean of observed y values:', np.mean(y_test))\n",
    "# coefficient of variation \n",
    "RMSE = np.sqrt(metrics.mean_squared_error(y_test, y_pred))\n",
    "print('Coefficient of variation:', (100*RMSE)/np.mean(y_test))"
   ]
  },
  {
   "cell_type": "markdown",
   "metadata": {},
   "source": [
    "The coefficient of variation in this case is 8.9%. This is much less than the aforementioned threshold value of 25% so this is a very accurate regression model. However, the model took 2.44 seconds to train the data, which is more than the Decision Tree regression which was approximately instantaneous."
   ]
  },
  {
   "cell_type": "markdown",
   "metadata": {},
   "source": [
    "## Random Forest <a name=\"randfor\"></a>\n",
    "This project will use the RandomForestRegressor function from sklearn to perform the regression.\n",
    "\n",
    "The algorithm works by combining the results from more than one decision tree to improve the result from one alone [12](#ref2). It can be used for both regression and classification.\n",
    "\n",
    "In the regression case, it works by getting the average of each regression done by each decision tree."
   ]
  },
  {
   "cell_type": "markdown",
   "metadata": {},
   "source": [
    "### Algorithm <a name=\"alg3\"></a>\n",
    "The data preprocessed for the decision tree classifier (lin_data) is used here for training and testing data.\n",
    "\n",
    "The train_test_split function is used again to split the data into training and testing data.\n",
    "\n",
    "The attribute n_estimators in RandomForestRegressor is the number of decision trees that will be generated."
   ]
  },
  {
   "cell_type": "code",
   "execution_count": 26,
   "metadata": {},
   "outputs": [],
   "source": [
    "from sklearn.ensemble import RandomForestRegressor\n",
    "\n",
    "# train and test data, test_size = 20%\n",
    "X_train, X_test, y_train, y_test = train_test_split(X, y, test_size=0.2, random_state=0)\n",
    "\n",
    "regressor = RandomForestRegressor(n_estimators=20, random_state=0);\n",
    "regressor.fit(X_train, y_train);"
   ]
  },
  {
   "cell_type": "markdown",
   "metadata": {},
   "source": [
    "### Predictions <a name=\"pred3\"></a>\n",
    "The predicted values are calculated using the regressor and the X_test testing data as before. Then various metrics (including the coefficient of variation) are calculated to test the efficacy of the model as before."
   ]
  },
  {
   "cell_type": "code",
   "execution_count": 27,
   "metadata": {},
   "outputs": [
    {
     "name": "stdout",
     "output_type": "stream",
     "text": [
      "Mean Absolute Error: 3.7109551020408147\n",
      "Mean Squared Error: 22.40140609683672\n",
      "Root Mean Squared Error: 4.733012370239139\n",
      "Mean of observed y values: 49.49011224489796\n",
      "Coefficient of variation: 9.56355149654581\n"
     ]
    }
   ],
   "source": [
    "# predicted y values using model\n",
    "y_pred = regressor.predict(X_test)\n",
    "print('Mean Absolute Error:', metrics.mean_absolute_error(y_test, y_pred))\n",
    "print('Mean Squared Error:', metrics.mean_squared_error(y_test, y_pred))\n",
    "print('Root Mean Squared Error:', np.sqrt(metrics.mean_squared_error(y_test, y_pred)))\n",
    "print('Mean of observed y values:', np.mean(y_test))\n",
    "# coefficient of variation \n",
    "RMSE = np.sqrt(metrics.mean_squared_error(y_test, y_pred))\n",
    "print('Coefficient of variation:', (100*RMSE)/np.mean(y_test))"
   ]
  },
  {
   "cell_type": "markdown",
   "metadata": {},
   "source": [
    "The coefficient of variation in this case is 9.56%. This is much less than the aforementioned threshold value of 25% so this is a very accurate regression model. In addition the training was done almost instantaneously."
   ]
  },
  {
   "cell_type": "markdown",
   "metadata": {},
   "source": [
    "# Discussion <a name=\"disc\"></a>\n",
    "All models predict values that are very accurate. However, the Neural Network regresion model done through tensorflow had a coefficient of variation that was more than 2% lower than the Decision Tree regression model and 0.7% less than the Random Forest regression model, making it the most accurate one. It was slowest to train the model at 2.46 seconds however.\n",
    "\n",
    "The code to make the Decision Tree and Random Forest models to generate predictions will be used to create a Flask server and generate values based on input from the user. In addition, this repository will be encapsulated in Docker image (The Neural Network regression will be omitted as that takes a relatively long time to load and does not produce significantly more accurate results than the Random Forest regression).\n",
    "\n",
    "Further work will be done in the \"Fundamentals of Data Analysis\" project. In that project, a linear regression will be performed on the dataset. In addition, a sigmoid function will be fit to the dataset as the data resembles a sigmoid function as well as a polynomial function."
   ]
  },
  {
   "cell_type": "markdown",
   "metadata": {},
   "source": [
    "# References <a name=\"ref\"></a>\n",
    "[1] Medium. 2020. Some Key Machine Learning Definitions. [online] Available at: <https://medium.com/technology-nineleaps/some-key-machine-learning-definitions-b524eb6cb48> [Accessed 28 December 2020]. <a name=\"1\"></a> <br>\n",
    "[2] 2020. [online] Available at: <https://www.saedsayad.com/decision_tree_reg.html> [Accessed 28 December 2020]. <a name=\"2\"></a> <br>\n",
    "[3]  DeepAI. 2020. Sigmoid Function. [online] Available at: <https://deepai.org/machine-learning-glossary-and-terms/sigmoid-function> [Accessed 28 December 2020]. <a name=\"3\"></a> <br>\n",
    "[4] Ferguson, K., 2020. When Should You Delete Outliers From A Data Set? - Atlan | Humans Of Data. [online] Atlan | Humans of Data. Available at: <https://humansofdata.atlan.com/2018/03/when-delete-outliers-dataset/> [Accessed 28 December 2020]. <a name=\"4\"></a><br>\n",
    "[5] Use, 1., 2020. How To Assess A Regression's Predictive Power For Energy Use - Kw Engineering. [online] kW Engineering. Available at: <https://www.kw-engineering.com/how-to-assess-a-regressions-predictive-power-energy-use/> [Accessed 28 December 2020].<a name=\"5\"></a> <br>\n",
    "[6] Medium. 2020. A Beginner’S Guide To Neural Networks: Part One. [online] Available at: <https://towardsdatascience.com/a-beginners-guide-to-neural-networks-b6be0d442fa4> [Accessed 28 December 2020].<a name=\"6\"></a> <br>\n",
    "[7] Brownlee, J., 2020. Why Initialize A Neural Network With Random Weights?. [online] Machine Learning Mastery. Available at: <https://machinelearningmastery.com/why-initialize-a-neural-network-with-random-weights/> [Accessed 28 December 2020]. <a name=\"7\"></a> <br>\n",
    "[8] Brownlee, J., 2020. What Is Deep Learning?. [online] Machine Learning Mastery. Available at: <https://machinelearningmastery.com/what-is-deep-learning/> [Accessed 28 December 2020]. <a name=\"8\"></a> <br>\n",
    "[9] Stack Abuse. 2020. Tensorflow 2.0: Solving Classification And Regression Problems. [online] Available at: <https://stackabuse.com/tensorflow-2-0-solving-classification-and-regression-problems/> [Accessed 28 December 2020]. <a name=\"9\"></a> <br>\n",
    "[10] Brownlee, J., 2020. A Gentle Introduction To The Rectified Linear Unit (Relu). [online] Machine Learning Mastery. Available at: <https://machinelearningmastery.com/rectified-linear-activation-function-for-deep-learning-neural-networks/> [Accessed 28 December 2020]. <a name=\"10\"></a> <br>\n",
    "[11] TensorFlow. 2020. Tf.Keras.Optimizers.Adam  |  Tensorflow Core V2.4.0. [online] Available at: <https://www.tensorflow.org/api_docs/python/tf/keras/optimizers/Adam> [Accessed 28 December 2020]. <a name=\"11\"></a> <br>\n",
    "[12] Built In. 2020. A Complete Guide To The Random Forest Algorithm. [online] Available at: <https://builtin.com/data-science/random-forest-algorithm> [Accessed 29 December 2020]. <a name=\"12\"></a>"
   ]
  }
 ],
 "metadata": {
  "kernelspec": {
   "display_name": "Python 3",
   "language": "python",
   "name": "python3"
  },
  "language_info": {
   "codemirror_mode": {
    "name": "ipython",
    "version": 3
   },
   "file_extension": ".py",
   "mimetype": "text/x-python",
   "name": "python",
   "nbconvert_exporter": "python",
   "pygments_lexer": "ipython3",
   "version": "3.8.5"
  }
 },
 "nbformat": 4,
 "nbformat_minor": 4
}
